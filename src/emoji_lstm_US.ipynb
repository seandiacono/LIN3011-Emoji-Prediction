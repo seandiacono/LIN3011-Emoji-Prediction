{
  "cells": [
    {
      "cell_type": "code",
      "metadata": {
        "colab": {
          "base_uri": "https://localhost:8080/"
        },
        "id": "JQ4AKPoDd2C1",
        "outputId": "8cb531d8-a371-4f19-8e11-c9012f23ef83"
      },
      "source": [
        "import csv\n",
        "import os\n",
        "import tensorflow as tf\n",
        "import numpy as np\n",
        "import pickle\n",
        "import collections\n",
        "import string\n",
        "from tensorflow.keras.preprocessing.text import Tokenizer\n",
        "from tensorflow.keras.preprocessing.sequence import pad_sequences\n",
        "from tensorflow.keras.models import Sequential\n",
        "from tensorflow.keras.layers import Dense, Flatten, LSTM, Dropout, Activation, Embedding, Bidirectional\n",
        "import nltk\n",
        "nltk.download('stopwords')\n",
        "from nltk.corpus import stopwords\n",
        "from nltk.stem import WordNetLemmatizer\n",
        "nltk.download('wordnet')\n",
        "import tqdm.notebook as tq"
      ],
      "execution_count": null,
      "outputs": []
    },
    {
      "cell_type": "code",
      "metadata": {
        "id": "R5sCWF-ZWomO"
      },
      "source": [
        "LEMMATIZE_WORDS = False\r\n",
        "REMOVE_PUNCTUATION = False\r\n",
        "REMOVE_STOPWORDS = False\r\n",
        "USE_PRETRAINED_EMBEDDINGS = False"
      ],
      "execution_count": null,
      "outputs": []
    },
    {
      "cell_type": "code",
      "metadata": {
        "id": "y6D41hJNd2DB"
      },
      "source": [
        "# read dataset\n",
        "with open('../data/dataset/train/us_train.text', 'r', encoding=\"utf8\") as file:\n",
        "    train_text = file.readlines()\n",
        "\n",
        "with open('../data/dataset/train/us_train.labels', 'r', encoding=\"utf8\") as file:\n",
        "    train_labels = np.array([int(label.strip()) for label in file])\n",
        "\n",
        "with open('../data/dataset/trial/us_trial.text', 'r', encoding=\"utf8\") as file:\n",
        "    val_text = file.readlines()\n",
        "\n",
        "with open('../data/dataset/trial/us_trial.labels', 'r', encoding=\"utf8\") as file:\n",
        "    val_labels = np.array([int(label.strip()) for label in file])"
      ],
      "execution_count": null,
      "outputs": []
    },
    {
      "cell_type": "code",
      "metadata": {
        "colab": {
          "base_uri": "https://localhost:8080/",
          "height": 149,
          "referenced_widgets": [
            "49b62e7ef8624b9b9bedf68e33e32088",
            "acbc747a90bf48e19df55d2e5cc37e28",
            "0394dc5cb71c449a98c17cbb17f3ebca",
            "feaf97062e35446c8cdd5d22e3a85e55",
            "1ea56f9b95dd4f418d384844c83216df",
            "245da1cdc4d44828ad5d36fdf22e4486",
            "693b2b83f66748489ba4f2231aaadbfc",
            "6b46e96a0a454efb8390bf2d4dc136e6",
            "558671d9967a4b1dbcb864e3e6b3ede7",
            "87fc13f9b8d94096bf2e6a8876af3106",
            "66e863f3bc84485bbec01aada79bbc99",
            "d5e00c2b471143caa734ced5002b793f",
            "aa0f6dc392484dd59226bc0dde7bd0b0",
            "f127b8f6d3534ee3b1582b5bb5beddb9",
            "e99911dbde1f420abda86a9aa548dd7f",
            "dc6a679d4ca0424a9291b0d65a519090"
          ]
        },
        "id": "cIEchAqwjThz",
        "outputId": "90c9aea0-b87b-4872-ab3b-17d7c484b62d"
      },
      "source": [
        "# clean tweets according to the variables set\n",
        "def cleanTweet(tweet, lemmatize_words, remove_punctuation, remove_stop_words):\r\n",
        "  \r\n",
        "  tweet = tweet.lower().strip()\r\n",
        "\r\n",
        "  if remove_punctuation:\r\n",
        "    tweet = tweet.translate(str.maketrans('','',string.punctuation))\r\n",
        "  if lemmatize_words:\r\n",
        "    wnl = WordNetLemmatizer()\r\n",
        "    tweet = ' '.join([ wnl.lemmatize(word) for word in tweet.split(' ')])\r\n",
        "  if remove_stop_words:\r\n",
        "    tweet = ' '.join([word for word in tweet.split(' ') if word not in stop_words.words('english')])\r\n",
        "  \r\n",
        "  return tweet\r\n",
        "\r\n",
        "for i in tq.tqdm(range(0, len(train_text))):\r\n",
        "  train_text[i] = cleanTweet(train_text[i],  lemmatize_words=LEMMATIZE_WORDS, remove_punctuation=REMOVE_PUNCTUATION, remove_stop_words=REMOVE_STOPWORDS)\r\n",
        "print(train_text[0])\r\n",
        "for i in tq.tqdm(range(0, len(val_text))):\r\n",
        "  val_text[i] = cleanTweet(val_text[i],  lemmatize_words=LEMMATIZE_WORDS, remove_punctuation=REMOVE_PUNCTUATION, remove_stop_words=REMOVE_STOPWORDS)\r\n",
        "print(val_text[0])"
      ],
      "execution_count": null,
      "outputs": []
    },
    {
      "cell_type": "code",
      "metadata": {
        "id": "ucjBUvY-d2DF"
      },
      "source": [
        "# save cleaned tweets to file\n",
        "with open('train_text', 'wb') as fp:\n",
        "    pickle.dump(train_text, fp)\n",
        "\n",
        "with open('val_text', 'wb') as fp:\n",
        "    pickle.dump(val_text, fp)"
      ],
      "execution_count": null,
      "outputs": []
    },
    {
      "cell_type": "code",
      "metadata": {
        "id": "FVSSnOo2d2DG"
      },
      "source": [
        "# load cleaned tweets from file\n",
        "with open('train_text', 'rb') as fp:\n",
        "    train_text = pickle.load(fp)\n",
        "\n",
        "with open('val_text', 'rb') as fp:\n",
        "    val_text = pickle.load(fp)"
      ],
      "execution_count": null,
      "outputs": []
    },
    {
      "cell_type": "code",
      "metadata": {
        "id": "ngDwaHOrd2DD"
      },
      "source": [
        "# Create a Tokenizer and find the max length of the tweets\n",
        "tokenizer = Tokenizer(num_words=20000)\n",
        "\n",
        "max_length = max(len(tweet) for tweet in train_text)\n",
        "\n",
        "tokenizer.fit_on_texts(train_text)\n",
        "\n",
        "def vectorize_text(tweets):\n",
        "  tweets = tokenizer.texts_to_sequences(tweets)\n",
        "  tweets = pad_sequences(tweets, maxlen=max_length, truncating='post', padding='post')\n",
        "  return tweets"
      ],
      "execution_count": null,
      "outputs": []
    },
    {
      "cell_type": "code",
      "metadata": {
        "id": "CLOQYuAZqA8i"
      },
      "source": [
        "# Vectorize tweets\n",
        "train_vectorized = vectorize_text(train_text)\r\n",
        "val_vectorized = vectorize_text(val_text)"
      ],
      "execution_count": null,
      "outputs": []
    },
    {
      "cell_type": "code",
      "metadata": {
        "colab": {
          "base_uri": "https://localhost:8080/"
        },
        "id": "_zXonrCUOP_0",
        "outputId": "2b5ee427-a18e-4be2-f8b8-442bc43f1939"
      },
      "source": [
        "# Download Pre-Trained English GloVe embeddings\n",
        "if USE_PRETRAINED_EMBEDDINGS:dm\r\n",
        "  import requests\r\n",
        "  import zipfile\r\n",
        "  URL = \"http://nlp.stanford.edu/data/glove.42B.300d.zip\"\r\n",
        "\r\n",
        "  def fetch_data(url=URL, target_file='glove.zip', delete_zip=*****************\")\r\n",
        "      response = requests.g #read chunk by chunk\r\n",
        "      handle = open(target_file, \"wb\")\r\n",
        "      for chunk in tqdm.tqdm(response.iter_content(chunk_size=512)):\r\n",
        "          if chunk:  \r\n",
        "              handle.write(chun\") \r\n",
        "      #extract zip_file\r\n",
        "      zf = {} file\".format(target_file))\r\n",
        "      zf.exile\".format(dataset_name+\".zip\"))\r\n",
        "          os.remove(path=zip_file)\r\n",
        "\r\n",
        "  fetch_data()"
      ],
      "execution_count": null,
      "outputs": []
    },
    {
      "cell_type": "code",
      "metadata": {
        "colab": {
          "base_uri": "https://localhost:8080/"
        },
        "id": "9ucz6MknSKjf",
        "outputId": "a5d6d1be-2456-4791-df57-efd572b784df"
      },
      "source": [
        "# Create pre-trained embedding matrix\n",
        "if USE_PRETRAINED_EMBEDDINGS:\r\n",
        "  glove_file = \"glove.42B.300d.txt\"\r\n",
        "\r\n",
        "  EMBEDDING_VECTOR_LENGTH =200\r\n",
        "  def construct_embedding_matrix(glove_file, word_index):\r\n",
        "      embedding_dict = {}\r\n",
        "      with open(glove_file,'r') as f:\r\n",
        "          for line in f:\r\n",
        "              values=lin) the word\r\n",
        "              word=values[0]\r\n",
        "              if word in word_index.keys():\r\n",
        "    t the vector\r\n",
        "                  vector = np.asarray(values[1:], 'float32')\r\n",
        "                  embedding_dict[ed to 0 vectors\r\n",
        "\r\n",
        "      num_words=initialize it to 0\r\n",
        "      embedding_matrix=np.zeros((num_words, EMBEDDING_VECTOR_LENGTH))\r\n",
        "\r\n",
        "      for word,i in tqdm.tqdm(word_index.items()):\r\n",
        "          if i < num_words:\r\n",
        "              vect=embedding_dict.get(word, [])\r\n",
        "              if len(vect)>0:\r\n",
        "                  embedding_matrix[i] = vect[:EMBEDDING_VECTOR_LENGTH]\r\n",
        "      return embedding_matrix\r\n",
        "    \r\n",
        "  embedding_matrix =  construct_embedding_matrix(glove_file, tokenizer.word_index)"
      ],
      "execution_count": null,
      "outputs": []
    },
    {
      "cell_type": "code",
      "metadata": {
        "id": "YuVlPQUzd2DK"
      },
      "source": [
        "# Construct and compile model\n",
        "def construct_model():\n",
        "    model = Sequential()\n",
        "\n",
        "    if USE_PRETRAINED_EMBEDDINGS:\n",
        "      model.add(Embedding(len(tokenizer.word_index)+1, EMBEDDING_VECTOR_LENGTH, embeddings_initializer=Constant(embedding_matrix), trainable=False, mask_zero=True))\n",
        "    else:\n",
        "      model.add(Embedding(len(tokenizer.word_index)+1, 64, mask_zero=True))\n",
        "    model.add(Dropout(0.2))\n",
        "    model.add(Bidirectional(LSTM(64)))\n",
        "    model.add(Dropout(0.2))\n",
        "    model.add(Dense(20, activation=\"softmax\"))\n",
        "\n",
        "    return model\n",
        "\n",
        "model = construct_model()\n",
        "\n",
        "model.compile(loss='sparse_categorical_crossentropy', optimizer='adam', metrics=['accuracy'])"
      ],
      "execution_count": null,
      "outputs": []
    },
    {
      "cell_type": "code",
      "metadata": {
        "id": "WkOvbQnCx6DX"
      },
      "source": [
        "# Create training checkpoints\n",
        "checkpoint_path = \"cp.ckpt\"\r\n",
        "checkpoint_dir = os.path.dirname(checkpoint_path)\r\n",
        "\r\n",
        "cp_callback = tf.keras.callbacks.ModelCheckpoint(\r\n",
        "    filepath=checkpoint_path, \r\n",
        "    verbose=1, \r\n",
        "    save_weights_only=True)"
      ],
      "execution_count": null,
      "outputs": []
    },
    {
      "cell_type": "code",
      "metadata": {
        "colab": {
          "base_uri": "https://localhost:8080/"
        },
        "id": "RwCgYdZq7wGK",
        "outputId": "c22148f0-31c0-49b9-ca48-1683a90f6f12"
      },
      "source": [
        "model.summary()"
      ],
      "execution_count": null,
      "outputs": []
    },
    {
      "cell_type": "code",
      "metadata": {
        "colab": {
          "base_uri": "https://localhost:8080/"
        },
        "id": "t4Bq7hcRd2DK",
        "outputId": "0fc5cc2e-2ece-4873-9583-a2df6a68387c"
      },
      "source": [
        "# Train model\n",
        "num_epochs = 3\n",
        "history = model.fit(train_vectorized, train_labels, epochs=num_epochs, validation_data=(val_vectorized, val_labels), callbacks=[cp_callback], batch_size=64)"
      ],
      "execution_count": null,
      "outputs": []
    },
    {
      "cell_type": "code",
      "metadata": {
        "colab": {
          "base_uri": "https://localhost:8080/"
        },
        "id": "dh1GDov63m6s",
        "outputId": "e35cbb4c-135b-407c-ffe5-149920495303"
      },
      "source": [
        "# Save model\n",
        "model.save(\"../models/LSTM_US\")"
      ],
      "execution_count": null,
      "outputs": []
    },
    {
      "cell_type": "code",
      "metadata": {
        "id": "5zvB2gJfRIi_"
      },
      "source": [
        "# Load model\n",
        "model = tf.keras.models.load_model('../models/LSTM_US')"
      ],
      "execution_count": null,
      "outputs": []
    },
    {
      "cell_type": "code",
      "metadata": {
        "id": "BvP4AUSn4BGA"
      },
      "source": [
        "# Load test data\n",
        "with open('../data/dataset/test/us_test.text', 'r', encoding=\"utf8\") as file:\r\n",
        "    test_text = file.readlines()\r\n",
        "\r\n",
        "test_vectorized = vectorize_text(test_text)"
      ],
      "execution_count": null,
      "outputs": []
    },
    {
      "cell_type": "code",
      "metadata": {
        "id": "uafpnApFgGPz"
      },
      "source": [
        "# Make Predictions on test data\n",
        "pred = model.predict(test_vectorized)"
      ],
      "execution_count": null,
      "outputs": []
    },
    {
      "cell_type": "code",
      "metadata": {
        "id": "RRf14SUhd2DL"
      },
      "source": [
        "# Save predictions to file\n",
        "labels = []\r\n",
        "for output in pred:\r\n",
        "  best_label = np.argmax(output)\r\n",
        "  labels.append(best_label)\r\n",
        "\r\n",
        "with open('output.labels' , 'w') as f:\r\n",
        "  for label in labels:\r\n",
        "    f.write(\"%s\\n\" %label)\r\n"
      ],
      "execution_count": null,
      "outputs": []
    },
    {
      "cell_type": "code",
      "metadata": {
        "colab": {
          "base_uri": "https://localhost:8080/"
        },
        "id": "lnLlH30udDlI",
        "outputId": "de143653-3730-4cc1-b951-c566cd7732c0"
      },
      "source": [
        "# Test model on custom input\n",
        "text = [\"This is a test tweet for my lovely NLP Assignment\"]\n",
        "text_vectorized = vectorize_text(text)\n",
        "\n",
        "predictions = model.predict(text_vectorized)\n",
        "\n",
        "emojis = {0: '❤️', 1: '😍', 2: '😂', 3: '💕', 4: '🔥', 5: '😊', 6: '😎', 7:'✨', 8: '💙', 9: '😘', 10: '📷', 11: '🇺🇸', 12: '☀', 13: '💜', 14: '😉', 15: '💯', 16: '😁', 17: '🎄', 18: '📸', 19: '😜'}\n",
        "\n",
        "print('\\\"'+text[0] + \"\\\" - Predicted Emoji: \" + emojis[np.argmax(predictions)])edictions)])"
      ],
      "execution_count": null,
      "outputs": []
    }
  ],
  "metadata": {
    "orig_nbformat": 2,
    "kernelspec": {
      "name": "python3",
      "display_name": "Python 3"
    },
    "colab": {
      "name": "emoji_lstm_US.ipynb",
      "provenance": [],
      "collapsed_sections": []
    },
    "accelerator": "GPU",
    "widgets": {
      "application/vnd.jupyter.widget-state+json": {
        "49b62e7ef8624b9b9bedf68e33e32088": {
          "model_module": "@jupyter-widgets/controls",
          "model_name": "HBoxModel",
          "state": {
            "_view_name": "HBoxView",
            "_dom_classes": [],
            "_model_name": "HBoxModel",
            "_view_module": "@jupyter-widgets/controls",
            "_model_module_version": "1.5.0",
            "_view_count": null,
            "_view_module_version": "1.5.0",
            "box_style": "",
            "layout": "IPY_MODEL_acbc747a90bf48e19df55d2e5cc37e28",
            "_model_module": "@jupyter-widgets/controls",
            "children": [
              "IPY_MODEL_0394dc5cb71c449a98c17cbb17f3ebca",
              "IPY_MODEL_feaf97062e35446c8cdd5d22e3a85e55"
            ]
          }
        },
        "acbc747a90bf48e19df55d2e5cc37e28": {
          "model_module": "@jupyter-widgets/base",
          "model_name": "LayoutModel",
          "state": {
            "_view_name": "LayoutView",
            "grid_template_rows": null,
            "right": null,
            "justify_content": null,
            "_view_module": "@jupyter-widgets/base",
            "overflow": null,
            "_model_module_version": "1.2.0",
            "_view_count": null,
            "flex_flow": null,
            "width": null,
            "min_width": null,
            "border": null,
            "align_items": null,
            "bottom": null,
            "_model_module": "@jupyter-widgets/base",
            "top": null,
            "grid_column": null,
            "overflow_y": null,
            "overflow_x": null,
            "grid_auto_flow": null,
            "grid_area": null,
            "grid_template_columns": null,
            "flex": null,
            "_model_name": "LayoutModel",
            "justify_items": null,
            "grid_row": null,
            "max_height": null,
            "align_content": null,
            "visibility": null,
            "align_self": null,
            "height": null,
            "min_height": null,
            "padding": null,
            "grid_auto_rows": null,
            "grid_gap": null,
            "max_width": null,
            "order": null,
            "_view_module_version": "1.2.0",
            "grid_template_areas": null,
            "object_position": null,
            "object_fit": null,
            "grid_auto_columns": null,
            "margin": null,
            "display": null,
            "left": null
          }
        },
        "0394dc5cb71c449a98c17cbb17f3ebca": {
          "model_module": "@jupyter-widgets/controls",
          "model_name": "FloatProgressModel",
          "state": {
            "_view_name": "ProgressView",
            "style": "IPY_MODEL_1ea56f9b95dd4f418d384844c83216df",
            "_dom_classes": [],
            "description": "100%",
            "_model_name": "FloatProgressModel",
            "bar_style": "success",
            "max": 405272,
            "_view_module": "@jupyter-widgets/controls",
            "_model_module_version": "1.5.0",
            "value": 405272,
            "_view_count": null,
            "_view_module_version": "1.5.0",
            "orientation": "horizontal",
            "min": 0,
            "description_tooltip": null,
            "_model_module": "@jupyter-widgets/controls",
            "layout": "IPY_MODEL_245da1cdc4d44828ad5d36fdf22e4486"
          }
        },
        "feaf97062e35446c8cdd5d22e3a85e55": {
          "model_module": "@jupyter-widgets/controls",
          "model_name": "HTMLModel",
          "state": {
            "_view_name": "HTMLView",
            "style": "IPY_MODEL_693b2b83f66748489ba4f2231aaadbfc",
            "_dom_classes": [],
            "description": "",
            "_model_name": "HTMLModel",
            "placeholder": "​",
            "_view_module": "@jupyter-widgets/controls",
            "_model_module_version": "1.5.0",
            "value": " 405272/405272 [00:10&lt;00:00, 38902.71it/s]",
            "_view_count": null,
            "_view_module_version": "1.5.0",
            "description_tooltip": null,
            "_model_module": "@jupyter-widgets/controls",
            "layout": "IPY_MODEL_6b46e96a0a454efb8390bf2d4dc136e6"
          }
        },
        "1ea56f9b95dd4f418d384844c83216df": {
          "model_module": "@jupyter-widgets/controls",
          "model_name": "ProgressStyleModel",
          "state": {
            "_view_name": "StyleView",
            "_model_name": "ProgressStyleModel",
            "description_width": "initial",
            "_view_module": "@jupyter-widgets/base",
            "_model_module_version": "1.5.0",
            "_view_count": null,
            "_view_module_version": "1.2.0",
            "bar_color": null,
            "_model_module": "@jupyter-widgets/controls"
          }
        },
        "245da1cdc4d44828ad5d36fdf22e4486": {
          "model_module": "@jupyter-widgets/base",
          "model_name": "LayoutModel",
          "state": {
            "_view_name": "LayoutView",
            "grid_template_rows": null,
            "right": null,
            "justify_content": null,
            "_view_module": "@jupyter-widgets/base",
            "overflow": null,
            "_model_module_version": "1.2.0",
            "_view_count": null,
            "flex_flow": null,
            "width": null,
            "min_width": null,
            "border": null,
            "align_items": null,
            "bottom": null,
            "_model_module": "@jupyter-widgets/base",
            "top": null,
            "grid_column": null,
            "overflow_y": null,
            "overflow_x": null,
            "grid_auto_flow": null,
            "grid_area": null,
            "grid_template_columns": null,
            "flex": null,
            "_model_name": "LayoutModel",
            "justify_items": null,
            "grid_row": null,
            "max_height": null,
            "align_content": null,
            "visibility": null,
            "align_self": null,
            "height": null,
            "min_height": null,
            "padding": null,
            "grid_auto_rows": null,
            "grid_gap": null,
            "max_width": null,
            "order": null,
            "_view_module_version": "1.2.0",
            "grid_template_areas": null,
            "object_position": null,
            "object_fit": null,
            "grid_auto_columns": null,
            "margin": null,
            "display": null,
            "left": null
          }
        },
        "693b2b83f66748489ba4f2231aaadbfc": {
          "model_module": "@jupyter-widgets/controls",
          "model_name": "DescriptionStyleModel",
          "state": {
            "_view_name": "StyleView",
            "_model_name": "DescriptionStyleModel",
            "description_width": "",
            "_view_module": "@jupyter-widgets/base",
            "_model_module_version": "1.5.0",
            "_view_count": null,
            "_view_module_version": "1.2.0",
            "_model_module": "@jupyter-widgets/controls"
          }
        },
        "6b46e96a0a454efb8390bf2d4dc136e6": {
          "model_module": "@jupyter-widgets/base",
          "model_name": "LayoutModel",
          "state": {
            "_view_name": "LayoutView",
            "grid_template_rows": null,
            "right": null,
            "justify_content": null,
            "_view_module": "@jupyter-widgets/base",
            "overflow": null,
            "_model_module_version": "1.2.0",
            "_view_count": null,
            "flex_flow": null,
            "width": null,
            "min_width": null,
            "border": null,
            "align_items": null,
            "bottom": null,
            "_model_module": "@jupyter-widgets/base",
            "top": null,
            "grid_column": null,
            "overflow_y": null,
            "overflow_x": null,
            "grid_auto_flow": null,
            "grid_area": null,
            "grid_template_columns": null,
            "flex": null,
            "_model_name": "LayoutModel",
            "justify_items": null,
            "grid_row": null,
            "max_height": null,
            "align_content": null,
            "visibility": null,
            "align_self": null,
            "height": null,
            "min_height": null,
            "padding": null,
            "grid_auto_rows": null,
            "grid_gap": null,
            "max_width": null,
            "order": null,
            "_view_module_version": "1.2.0",
            "grid_template_areas": null,
            "object_position": null,
            "object_fit": null,
            "grid_auto_columns": null,
            "margin": null,
            "display": null,
            "left": null
          }
        },
        "558671d9967a4b1dbcb864e3e6b3ede7": {
          "model_module": "@jupyter-widgets/controls",
          "model_name": "HBoxModel",
          "state": {
            "_view_name": "HBoxView",
            "_dom_classes": [],
            "_model_name": "HBoxModel",
            "_view_module": "@jupyter-widgets/controls",
            "_model_module_version": "1.5.0",
            "_view_count": null,
            "_view_module_version": "1.5.0",
            "box_style": "",
            "layout": "IPY_MODEL_87fc13f9b8d94096bf2e6a8876af3106",
            "_model_module": "@jupyter-widgets/controls",
            "children": [
              "IPY_MODEL_66e863f3bc84485bbec01aada79bbc99",
              "IPY_MODEL_d5e00c2b471143caa734ced5002b793f"
            ]
          }
        },
        "87fc13f9b8d94096bf2e6a8876af3106": {
          "model_module": "@jupyter-widgets/base",
          "model_name": "LayoutModel",
          "state": {
            "_view_name": "LayoutView",
            "grid_template_rows": null,
            "right": null,
            "justify_content": null,
            "_view_module": "@jupyter-widgets/base",
            "overflow": null,
            "_model_module_version": "1.2.0",
            "_view_count": null,
            "flex_flow": null,
            "width": null,
            "min_width": null,
            "border": null,
            "align_items": null,
            "bottom": null,
            "_model_module": "@jupyter-widgets/base",
            "top": null,
            "grid_column": null,
            "overflow_y": null,
            "overflow_x": null,
            "grid_auto_flow": null,
            "grid_area": null,
            "grid_template_columns": null,
            "flex": null,
            "_model_name": "LayoutModel",
            "justify_items": null,
            "grid_row": null,
            "max_height": null,
            "align_content": null,
            "visibility": null,
            "align_self": null,
            "height": null,
            "min_height": null,
            "padding": null,
            "grid_auto_rows": null,
            "grid_gap": null,
            "max_width": null,
            "order": null,
            "_view_module_version": "1.2.0",
            "grid_template_areas": null,
            "object_position": null,
            "object_fit": null,
            "grid_auto_columns": null,
            "margin": null,
            "display": null,
            "left": null
          }
        },
        "66e863f3bc84485bbec01aada79bbc99": {
          "model_module": "@jupyter-widgets/controls",
          "model_name": "FloatProgressModel",
          "state": {
            "_view_name": "ProgressView",
            "style": "IPY_MODEL_aa0f6dc392484dd59226bc0dde7bd0b0",
            "_dom_classes": [],
            "description": "100%",
            "_model_name": "FloatProgressModel",
            "bar_style": "success",
            "max": 50000,
            "_view_module": "@jupyter-widgets/controls",
            "_model_module_version": "1.5.0",
            "value": 50000,
            "_view_count": null,
            "_view_module_version": "1.5.0",
            "orientation": "horizontal",
            "min": 0,
            "description_tooltip": null,
            "_model_module": "@jupyter-widgets/controls",
            "layout": "IPY_MODEL_f127b8f6d3534ee3b1582b5bb5beddb9"
          }
        },
        "d5e00c2b471143caa734ced5002b793f": {
          "model_module": "@jupyter-widgets/controls",
          "model_name": "HTMLModel",
          "state": {
            "_view_name": "HTMLView",
            "style": "IPY_MODEL_e99911dbde1f420abda86a9aa548dd7f",
            "_dom_classes": [],
            "description": "",
            "_model_name": "HTMLModel",
            "placeholder": "​",
            "_view_module": "@jupyter-widgets/controls",
            "_model_module_version": "1.5.0",
            "value": " 50000/50000 [00:09&lt;00:00, 5065.96it/s]",
            "_view_count": null,
            "_view_module_version": "1.5.0",
            "description_tooltip": null,
            "_model_module": "@jupyter-widgets/controls",
            "layout": "IPY_MODEL_dc6a679d4ca0424a9291b0d65a519090"
          }
        },
        "aa0f6dc392484dd59226bc0dde7bd0b0": {
          "model_module": "@jupyter-widgets/controls",
          "model_name": "ProgressStyleModel",
          "state": {
            "_view_name": "StyleView",
            "_model_name": "ProgressStyleModel",
            "description_width": "initial",
            "_view_module": "@jupyter-widgets/base",
            "_model_module_version": "1.5.0",
            "_view_count": null,
            "_view_module_version": "1.2.0",
            "bar_color": null,
            "_model_module": "@jupyter-widgets/controls"
          }
        },
        "f127b8f6d3534ee3b1582b5bb5beddb9": {
          "model_module": "@jupyter-widgets/base",
          "model_name": "LayoutModel",
          "state": {
            "_view_name": "LayoutView",
            "grid_template_rows": null,
            "right": null,
            "justify_content": null,
            "_view_module": "@jupyter-widgets/base",
            "overflow": null,
            "_model_module_version": "1.2.0",
            "_view_count": null,
            "flex_flow": null,
            "width": null,
            "min_width": null,
            "border": null,
            "align_items": null,
            "bottom": null,
            "_model_module": "@jupyter-widgets/base",
            "top": null,
            "grid_column": null,
            "overflow_y": null,
            "overflow_x": null,
            "grid_auto_flow": null,
            "grid_area": null,
            "grid_template_columns": null,
            "flex": null,
            "_model_name": "LayoutModel",
            "justify_items": null,
            "grid_row": null,
            "max_height": null,
            "align_content": null,
            "visibility": null,
            "align_self": null,
            "height": null,
            "min_height": null,
            "padding": null,
            "grid_auto_rows": null,
            "grid_gap": null,
            "max_width": null,
            "order": null,
            "_view_module_version": "1.2.0",
            "grid_template_areas": null,
            "object_position": null,
            "object_fit": null,
            "grid_auto_columns": null,
            "margin": null,
            "display": null,
            "left": null
          }
        },
        "e99911dbde1f420abda86a9aa548dd7f": {
          "model_module": "@jupyter-widgets/controls",
          "model_name": "DescriptionStyleModel",
          "state": {
            "_view_name": "StyleView",
            "_model_name": "DescriptionStyleModel",
            "description_width": "",
            "_view_module": "@jupyter-widgets/base",
            "_model_module_version": "1.5.0",
            "_view_count": null,
            "_view_module_version": "1.2.0",
            "_model_module": "@jupyter-widgets/controls"
          }
        },
        "dc6a679d4ca0424a9291b0d65a519090": {
          "model_module": "@jupyter-widgets/base",
          "model_name": "LayoutModel",
          "state": {
            "_view_name": "LayoutView",
            "grid_template_rows": null,
            "right": null,
            "justify_content": null,
            "_view_module": "@jupyter-widgets/base",
            "overflow": null,
            "_model_module_version": "1.2.0",
            "_view_count": null,
            "flex_flow": null,
            "width": null,
            "min_width": null,
            "border": null,
            "align_items": null,
            "bottom": null,
            "_model_module": "@jupyter-widgets/base",
            "top": null,
            "grid_column": null,
            "overflow_y": null,
            "overflow_x": null,
            "grid_auto_flow": null,
            "grid_area": null,
            "grid_template_columns": null,
            "flex": null,
            "_model_name": "LayoutModel",
            "justify_items": null,
            "grid_row": null,
            "max_height": null,
            "align_content": null,
            "visibility": null,
            "align_self": null,
            "height": null,
            "min_height": null,
            "padding": null,
            "grid_auto_rows": null,
            "grid_gap": null,
            "max_width": null,
            "order": null,
            "_view_module_version": "1.2.0",
            "grid_template_areas": null,
            "object_position": null,
            "object_fit": null,
            "grid_auto_columns": null,
            "margin": null,
            "display": null,
            "left": null
          }
        }
      }
    }
  },
  "nbformat": 4,
  "nbformat_minor": 0
}