{
 "cells": [
  {
   "cell_type": "code",
   "execution_count": 5,
   "metadata": {},
   "outputs": [],
   "source": [
    "import pandas as pd\n",
    "import numpy as np\n",
    "import nltk\n",
    "import pickle\n",
    "from nltk.tokenize import word_tokenize\n",
    "from nltk import pos_tag\n",
    "from nltk.corpus import stopwords\n",
    "from nltk.stem import WordNetLemmatizer\n",
    "from sklearn.preprocessing import LabelEncoder, StandardScaler\n",
    "from collections import defaultdict\n",
    "from nltk.corpus import wordnet as wn\n",
    "from sklearn.feature_extraction.text import TfidfVectorizer\n",
    "from sklearn import model_selection, naive_bayes, svm\n",
    "from sklearn.metrics import accuracy_score\n",
    "from sklearn.svm import LinearSVC\n",
    "from sklearn.pipeline import make_pipeline"
   ]
  },
  {
   "cell_type": "code",
   "execution_count": 2,
   "metadata": {},
   "outputs": [],
   "source": [
    "np.random.seed(500)\n",
    "\n",
    "with open('../data/dataset/train/us_train.text', 'r', encoding=\"utf8\") as file:\n",
    "    X_train1 = file.readlines()\n",
    "\n",
    "with open('../data/dataset/train/us_train.labels', 'r', encoding=\"utf8\") as file:\n",
    "    y_train = file.readlines()\n",
    "\n",
    "with open('../data/dataset/test/us_test.text', 'r', encoding=\"utf8\") as file:\n",
    "    X_test1 = file.readlines()\n",
    "\n",
    "with open('../data/dataset/test/us_test.labels', 'r', encoding=\"utf8\") as file:\n",
    "    y_test = file.readlines()"
   ]
  },
  {
   "cell_type": "code",
   "execution_count": null,
   "metadata": {},
   "outputs": [],
   "source": [
    "X_train1 = [tweet.lower() for tweet in X_train1]\n",
    "X_train1 = [word_tokenize(tweet) for tweet in X_train1]\n",
    "X_test1 = [tweet.lower() for tweet in X_test1]\n",
    "X_test1 = [word_tokenize(tweet) for tweet in X_test1]"
   ]
  },
  {
   "cell_type": "code",
   "execution_count": null,
   "metadata": {
    "tags": [
     "outputPrepend",
     "outputPrepend",
     "outputPrepend",
     "outputPrepend",
     "outputPrepend",
     "outputPrepend",
     "outputPrepend",
     "outputPrepend",
     "outputPrepend",
     "outputPrepend",
     "outputPrepend",
     "outputPrepend",
     "outputPrepend",
     "outputPrepend",
     "outputPrepend",
     "outputPrepend",
     "outputPrepend",
     "outputPrepend",
     "outputPrepend",
     "outputPrepend",
     "outputPrepend",
     "outputPrepend",
     "outputPrepend",
     "outputPrepend",
     "outputPrepend",
     "outputPrepend"
    ]
   },
   "outputs": [],
   "source": [
    "X_train = []\n",
    "\n",
    "for tweet in X_train1:\n",
    "    words = []\n",
    "    wnl = WordNetLemmatizer()\n",
    "\n",
    "    for word in tweet:\n",
    "        if word not in stopwords.words('english') and word.isalpha():\n",
    "            word = wnl.lemmatize(word)\n",
    "            words.append(word)\n",
    "\n",
    "    X_train.append(str(words))\n",
    "\n",
    "print(X_train[0])"
   ]
  },
  {
   "cell_type": "code",
   "execution_count": null,
   "metadata": {},
   "outputs": [],
   "source": [
    "X_test = []\n",
    "\n",
    "for tweet in X_test1:\n",
    "    words = []\n",
    "    wnl = WordNetLemmatizer()\n",
    "\n",
    "    for word in tweet:\n",
    "        if word not in stopwords.words('english') and word.isalpha():\n",
    "            word = wnl.lemmatize(word)\n",
    "            words.append(word)\n",
    "\n",
    "    X_test.append(str(words))\n",
    "\n",
    "print(X_test[0])"
   ]
  },
  {
   "cell_type": "code",
   "execution_count": null,
   "metadata": {},
   "outputs": [],
   "source": [
    "with open('X_train', 'wb') as fp:\n",
    "    pickle.dump(X_train, fp)\n",
    "\n",
    "with open('X_test', 'wb') as fp:\n",
    "    pickle.dump(X_test, fp)"
   ]
  },
  {
   "cell_type": "code",
   "execution_count": 3,
   "metadata": {},
   "outputs": [],
   "source": [
    "# X_train = []\n",
    "# X_test = []\n",
    "with open('X_train', 'rb') as fp:\n",
    "    X_train = pickle.load(fp)\n",
    "\n",
    "with open('X_test', 'rb') as fp:\n",
    "    X_test = pickle.load(fp)"
   ]
  },
  {
   "cell_type": "code",
   "execution_count": 4,
   "metadata": {
    "tags": [
     "outputPrepend"
    ]
   },
   "outputs": [],
   "source": [
    "Tfidf_vect = TfidfVectorizer(max_features=5000)\n",
    "Tfidf_vect.fit(np.concatenate((X_train,X_test)))\n",
    "\n",
    "Train_X_Tfidf = Tfidf_vect.transform(X_train)\n",
    "Test_X_Tfidf = Tfidf_vect.transform(X_test)"
   ]
  },
  {
   "cell_type": "code",
   "execution_count": null,
   "metadata": {
    "tags": [
     "outputPrepend"
    ]
   },
   "outputs": [],
   "source": [
    "print(Tfidf_vect.vocabulary_)"
   ]
  },
  {
   "cell_type": "code",
   "execution_count": null,
   "metadata": {},
   "outputs": [],
   "source": [
    "# fit the training dataset on the NB classifier\n",
    "Naive = naive_bayes.MultinomialNB()\n",
    "Naive.fit(Train_X_Tfidf,y_train)\n",
    "# predict the labels on validation dataset\n",
    "predictions_NB = Naive.predict(Test_X_Tfidf)\n",
    "# Use accuracy_score function to get the accuracy\n",
    "print(\"Naive Bayes Accuracy Score -> \",accuracy_score(predictions_NB, y_test)*100)"
   ]
  },
  {
   "cell_type": "code",
   "execution_count": null,
   "metadata": {},
   "outputs": [],
   "source": [
    "with open('../results/naive_bayes.labels', 'w') as f:\n",
    "    for pred in predictions_NB:\n",
    "        f.write(\"%s\" %pred)"
   ]
  },
  {
   "cell_type": "code",
   "execution_count": null,
   "metadata": {},
   "outputs": [],
   "source": [
    "# Classifier - Algorithm - SVM\n",
    "# fit the training dataset on the classifier\n",
    "SVM = svm.SVC(C=1.0, kernel='linear', degree=3, gamma='auto')\n",
    "SVM.fit(Train_X_Tfidf,y_train)\n",
    "# predict the labels on validation dataset\n",
    "predictions_SVM = SVM.predict(Test_X_Tfidf)\n",
    "# Use accuracy_score function to get the accuracy\n",
    "print(\"SVM Accuracy Score -> \",accuracy_score(predictions_SVM, y_test)*100)"
   ]
  },
  {
   "cell_type": "code",
   "execution_count": null,
   "metadata": {},
   "outputs": [],
   "source": [
    "with open('../results/svm_c1_linear.labels', 'w') as f:\n",
    "    for pred in predictions_SVM:\n",
    "        f.write(\"%s\" %pred)"
   ]
  },
  {
   "cell_type": "code",
   "execution_count": 12,
   "metadata": {},
   "outputs": [
    {
     "output_type": "stream",
     "name": "stdout",
     "text": "[LibLinear]SVM Accuracy Score ->  21.188000000000002\n"
    }
   ],
   "source": [
    "Linear_SVM = make_pipeline(StandardScaler(with_mean=False), LinearSVC(C=0.05, verbose=1, tol=1e-05))\n",
    "\n",
    "Linear_SVM.fit(Train_X_Tfidf, y_train)\n",
    "\n",
    "predictions_SVM = Linear_SVM.predict(Test_X_Tfidf)\n",
    "\n",
    "print(\"SVM Accuracy Score -> \",accuracy_score(predictions_SVM, y_test)*100)"
   ]
  },
  {
   "cell_type": "code",
   "execution_count": 13,
   "metadata": {},
   "outputs": [],
   "source": [
    "with open('../results/svm_c05_linear.labels', 'w') as f:\n",
    "    for pred in predictions_SVM:\n",
    "        f.write(\"%s\" %pred)"
   ]
  },
  {
   "cell_type": "code",
   "execution_count": null,
   "metadata": {},
   "outputs": [],
   "source": []
  }
 ],
 "metadata": {
  "language_info": {
   "codemirror_mode": {
    "name": "ipython",
    "version": 3
   },
   "file_extension": ".py",
   "mimetype": "text/x-python",
   "name": "python",
   "nbconvert_exporter": "python",
   "pygments_lexer": "ipython3",
   "version": 3
  },
  "orig_nbformat": 2,
  "kernelspec": {
   "name": "python_defaultSpec_1612544979172",
   "display_name": "Python 3.8.5 64-bit ('nlp': conda)"
  }
 },
 "nbformat": 4,
 "nbformat_minor": 2
}