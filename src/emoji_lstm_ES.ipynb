{
  "cells": [
    {
      "cell_type": "code",
      "metadata": {
        "colab": {
          "base_uri": "https://localhost:8080/"
        },
        "id": "JQ4AKPoDd2C1",
        "outputId": "a73d0f5b-1778-488c-a6b9-612c02b3c4e8"
      },
      "source": [
        "import csv\n",
        "import os\n",
        "import tensorflow as tf\n",
        "import numpy as np\n",
        "import pickle\n",
        "import collections\n",
        "import string\n",
        "from tensorflow.keras.preprocessing.text import Tokenizer\n",
        "from tensorflow.keras.preprocessing.sequence import pad_sequences\n",
        "from tensorflow.keras.models import Sequential\n",
        "from tensorflow.keras.layers import Dense, Flatten, LSTM, Dropout, Activation, Embedding, Bidirectional\n",
        "import nltk\n",
        "nltk.download('stopwords')\n",
        "from nltk.corpus import stopwords\n",
        "from nltk.stem import WordNetLemmatizer\n",
        "nltk.download('wordnet')\n",
        "import tqdm.notebook as tq"
      ],
      "execution_count": null,
      "outputs": []
    },
    {
      "cell_type": "code",
      "metadata": {
        "id": "R5sCWF-ZWomO"
      },
      "source": [
        "LEMMATIZE_WORDS = False\r\n",
        "REMOVE_PUNCTUATION = False\r\n",
        "REMOVE_STOPWORDS = False"
      ],
      "execution_count": null,
      "outputs": []
    },
    {
      "cell_type": "code",
      "metadata": {
        "id": "y6D41hJNd2DB"
      },
      "source": [
        "# read dataset\n",
        "with open('../data/dataset/train/es_train.text', 'r', encoding=\"utf8\") as file:\n",
        "    train_text = file.readlines()\n",
        "\n",
        "with open('../data/dataset/train/es_train.labels', 'r', encoding=\"utf8\") as file:\n",
        "    train_labels = np.array([int(label.strip()) for label in file])\n",
        "\n",
        "with open('../data/dataset/trial/es_trial.text', 'r', encoding=\"utf8\") as file:\n",
        "    val_text = file.readlines()\n",
        "\n",
        "with open('../data/dataset/trial/es_trial.labels', 'r', encoding=\"utf8\") as file:\n",
        "    val_labels = np.array([int(label.strip()) for label in file])"
      ],
      "execution_count": null,
      "outputs": []
    },
    {
      "cell_type": "code",
      "metadata": {
        "colab": {
          "base_uri": "https://localhost:8080/",
          "height": 149,
          "referenced_widgets": [
            "3e90d459c82b4120aae886794f2bb00e",
            "d097633105544c46a1285b3af936ecbd",
            "c8f9c2cd36064e0e8c51f574d8a9f581",
            "53bc1c6dfbbd46d289ea59f4ef8d6fa7",
            "3666e59ce97848d1b488f2273d5eeca7",
            "22483812d68640e0ba77b92c004b289c",
            "b0b24157a35142818a5b2a7ac2113ec4",
            "3b9e7707efca4bc9a65be58a7812783a",
            "a13c6926b2dc4956a8e8e882d37dda66",
            "587842a99e9e41e087fac7d13c4c6fd0",
            "0d61c2e8463440f399f36815851f5e03",
            "c5d5fdeaa69e4182b4d5e3faa1e24fa6",
            "4d743211a8b54c91a7ca040bbb419476",
            "7ffe810c8a714708b27fc467c5f5b639",
            "8250aa11e3ac444e901b0e25328bbaae",
            "fc395d1022524d4e90be1b3da85e28b3"
          ]
        },
        "id": "cIEchAqwjThz",
        "outputId": "87ac361c-d5c1-404c-eed4-5f3b1196d7db"
      },
      "source": [
        "# clean tweets according to the variables set\n",
        "def cleanTweet(tweet, lemmatize_words, remove_punctuation, remove_stop_words):\r\n",
        "  \r\n",
        "  tweet = tweet.lower().strip()\r\n",
        "\r\n",
        "  if remove_punctuation:\r\n",
        "    tweet = tweet.translate(str.maketrans('','',string.punctuation))\r\n",
        "  if lemmatize_words:\r\n",
        "    wnl = WordNetLemmatizer()\r\n",
        "    tweet = ' '.join([ wnl.lemmatize(word) for word in tweet.split(' ')])\r\n",
        "  if remove_stop_words:\r\n",
        "    tweet = ' '.join([word for word in tweet.split(' ') if word not in stop_words.words('english')])\r\n",
        "  \r\n",
        "  return tweet\r\n",
        "\r\n",
        "for i in tq.tqdm(range(0, len(train_text))):\r\n",
        "  train_text[i] = cleanTweet(train_text[i],  lemmatize_words=LEMMATIZE_WORDS, remove_punctuation=REMOVE_PUNCTUATION, remove_stop_words=REMOVE_STOPWORDS)\r\n",
        "print(train_text[0])\r\n",
        "for i in tq.tqdm(range(0, len(val_text))):\r\n",
        "  val_text[i] = cleanTweet(val_text[i],  lemmatize_words=LEMMATIZE_WORDS, remove_punctuation=REMOVE_PUNCTUATION, remove_stop_words=REMOVE_STOPWORDS)\r\n",
        "print(val_text[0])"
      ],
      "execution_count": null,
      "outputs": []
    },
    {
      "cell_type": "code",
      "metadata": {
        "id": "ucjBUvY-d2DF"
      },
      "source": [
        "# save cleaned tweets to file\n",
        "with open('train_text', 'wb') as fp:\n",
        "    pickle.dump(train_text, fp)\n",
        "\n",
        "with open('val_text', 'wb') as fp:\n",
        "    pickle.dump(val_text, fp)"
      ],
      "execution_count": null,
      "outputs": []
    },
    {
      "cell_type": "code",
      "metadata": {
        "id": "FVSSnOo2d2DG"
      },
      "source": [
        "# load cleaned tweets from file\n",
        "with open('train_text', 'rb') as fp:\n",
        "    train_text = pickle.load(fp)\n",
        "\n",
        "with open('val_text', 'rb') as fp:\n",
        "    val_text = pickle.load(fp)"
      ],
      "execution_count": null,
      "outputs": []
    },
    {
      "cell_type": "code",
      "metadata": {
        "id": "ngDwaHOrd2DD"
      },
      "source": [
        "# Create a Tokenizer and find the max length of the tweets\n",
        "tokenizer = Tokenizer(num_words=20000)\n",
        "\n",
        "max_length = max(len(tweet) for tweet in train_text)\n",
        "\n",
        "tokenizer.fit_on_texts(train_text)\n",
        "\n",
        "def vectorize_text(tweets):\n",
        "  tweets = tokenizer.texts_to_sequences(tweets)\n",
        "  tweets = pad_sequences(tweets, maxlen=max_length, truncating='post', padding='post')\n",
        "  return tweets"
      ],
      "execution_count": null,
      "outputs": []
    },
    {
      "cell_type": "code",
      "metadata": {
        "id": "CLOQYuAZqA8i"
      },
      "source": [
        "# Vectorize tweets\n",
        "train_vectorized = vectorize_text(train_text)\r\n",
        "val_vectorized = vectorize_text(val_text)"
      ],
      "execution_count": null,
      "outputs": []
    },
    {
      "cell_type": "code",
      "metadata": {
        "id": "YuVlPQUzd2DK"
      },
      "source": [
        "# Construct and compile model\n",
        "def construct_model():\n",
        "    model = Sequential()\n",
        "\n",
        "    model.add(Embedding(len(tokenizer.word_index)+1, 64, mask_zero=True))\n",
        "    model.add(Dropout(0.2))\n",
        "    model.add(Bidirectional(LSTM(64)))\n",
        "    model.add(Dropout(0.2))\n",
        "    model.add(Dense(20, activation=\"softmax\"))\n",
        "\n",
        "    return model\n",
        "\n",
        "model = construct_model()\n",
        "\n",
        "model.compile(loss='sparse_categorical_crossentropy', optimizer='adam', metrics=['accuracy'])"
      ],
      "execution_count": null,
      "outputs": []
    },
    {
      "cell_type": "code",
      "metadata": {
        "id": "WkOvbQnCx6DX"
      },
      "source": [
        "# Create training checkpoints\n",
        "checkpoint_path = \"cp.ckpt\"\r\n",
        "checkpoint_dir = os.path.dirname(checkpoint_path)\r\n",
        "\r\n",
        "cp_callback = tf.keras.callbacks.ModelCheckpoint(\r\n",
        "    filepath=checkpoint_path, \r\n",
        "    verbose=1, \r\n",
        "    save_weights_only=True)"
      ],
      "execution_count": null,
      "outputs": []
    },
    {
      "cell_type": "code",
      "metadata": {
        "colab": {
          "base_uri": "https://localhost:8080/"
        },
        "id": "RwCgYdZq7wGK",
        "outputId": "c22148f0-31c0-49b9-ca48-1683a90f6f12"
      },
      "source": [
        "model.summary()"
      ],
      "execution_count": null,
      "outputs": []
    },
    {
      "cell_type": "code",
      "metadata": {
        "colab": {
          "base_uri": "https://localhost:8080/"
        },
        "id": "t4Bq7hcRd2DK",
        "outputId": "38cbc4cc-6c3c-4261-9ebc-bfc455170cb6"
      },
      "source": [
        "# Train model\n",
        "num_epochs = 3\n",
        "history = model.fit(train_vectorized, train_labels, epochs=num_epochs, validation_data=(val_vectorized, val_labels), callbacks=[cp_callback], batch_size=64)"
      ],
      "execution_count": null,
      "outputs": []
    },
    {
      "cell_type": "code",
      "metadata": {
        "colab": {
          "base_uri": "https://localhost:8080/"
        },
        "id": "dh1GDov63m6s",
        "outputId": "10427359-df4f-433c-ca44-8829fdab6c7d"
      },
      "source": [
        "# Save model\n",
        "model.save(\"../models/LSTM_ES\")"
      ],
      "execution_count": null,
      "outputs": []
    },
    {
      "cell_type": "code",
      "metadata": {
        "id": "nlW6r0LVRl2D"
      },
      "source": [
        "# Load model\n",
        "model = tf.keras.models.load_model('../models/LSTM_ES')"
      ],
      "execution_count": null,
      "outputs": []
    },
    {
      "cell_type": "code",
      "metadata": {
        "id": "BvP4AUSn4BGA"
      },
      "source": [
        "# Load test data\n",
        "with open('../data/dataset/test/es_test.text', 'r', encoding=\"utf8\") as file:\r\n",
        "    test_text = file.readlines()\r\n",
        "\r\n",
        "test_vectorized = vectorize_text(test_text)"
      ],
      "execution_count": null,
      "outputs": []
    },
    {
      "cell_type": "code",
      "metadata": {
        "id": "uafpnApFgGPz"
      },
      "source": [
        "# Make Predictions on test data\n",
        "pred = model.predict(test_vectorized)"
      ],
      "execution_count": null,
      "outputs": []
    },
    {
      "cell_type": "code",
      "metadata": {
        "id": "RRf14SUhd2DL"
      },
      "source": [
        "# Save predictions to file\n",
        "labels = []\r\n",
        "for output in pred:\r\n",
        "  best_label = np.argmax(output)\r\n",
        "  labels.append(best_label)\r\n",
        "\r\n",
        "with open('output.labels' , 'w') as f:\r\n",
        "  for label in labels:\r\n",
        "    f.write(\"%s\\n\" %label)\r\n"
      ],
      "execution_count": null,
      "outputs": []
    },
    {
      "cell_type": "code",
      "metadata": {
        "colab": {
          "base_uri": "https://localhost:8080/"
        },
        "id": "lnLlH30udDlI",
        "outputId": "de143653-3730-4cc1-b951-c566cd7732c0"
      },
      "source": [
        "# Test model on custom input\n",
        "text = [\"Este es un tweet de prueba para mi hermosa asignación de NLP\"]\n",
        "text_vectorized = vectorize_text(text)\n",
        "\n",
        "predictions = model.predict(text_vectorized)\n",
        "\n",
        "emojis = {0: '❤️', 1: '😍', 2: '😂', 3: '💕', 4: '😊', 5: '😘 ', 6: '💪', 7: '😉', 8: '👌', 9: '🇪🇸',\n",
        "          10: '😎', 11: '💙', 12: '💜', 13: '😜', 14: '💞', 15: '✨', 16: '🎶', 17: '💘', 18: '😁'}\n",
        "\n",
        "print('\\\"'+text[0] + \"\\\" - Predicted Emoji: \" + emojis[np.argmax(predictions)])edictions)])"
      ],
      "execution_count": null,
      "outputs": []
    }
  ],
  "metadata": {
    "orig_nbformat": 2,
    "kernelspec": {
      "name": "python3",
      "display_name": "Python 3"
    },
    "colab": {
      "name": "emoji_lstm_ES.ipynb",
      "provenance": [],
      "collapsed_sections": []
    },
    "accelerator": "GPU",
    "widgets": {
      "application/vnd.jupyter.widget-state+json": {
        "3e90d459c82b4120aae886794f2bb00e": {
          "model_module": "@jupyter-widgets/controls",
          "model_name": "HBoxModel",
          "state": {
            "_view_name": "HBoxView",
            "_dom_classes": [],
            "_model_name": "HBoxModel",
            "_view_module": "@jupyter-widgets/controls",
            "_model_module_version": "1.5.0",
            "_view_count": null,
            "_view_module_version": "1.5.0",
            "box_style": "",
            "layout": "IPY_MODEL_d097633105544c46a1285b3af936ecbd",
            "_model_module": "@jupyter-widgets/controls",
            "children": [
              "IPY_MODEL_c8f9c2cd36064e0e8c51f574d8a9f581",
              "IPY_MODEL_53bc1c6dfbbd46d289ea59f4ef8d6fa7"
            ]
          }
        },
        "d097633105544c46a1285b3af936ecbd": {
          "model_module": "@jupyter-widgets/base",
          "model_name": "LayoutModel",
          "state": {
            "_view_name": "LayoutView",
            "grid_template_rows": null,
            "right": null,
            "justify_content": null,
            "_view_module": "@jupyter-widgets/base",
            "overflow": null,
            "_model_module_version": "1.2.0",
            "_view_count": null,
            "flex_flow": null,
            "width": null,
            "min_width": null,
            "border": null,
            "align_items": null,
            "bottom": null,
            "_model_module": "@jupyter-widgets/base",
            "top": null,
            "grid_column": null,
            "overflow_y": null,
            "overflow_x": null,
            "grid_auto_flow": null,
            "grid_area": null,
            "grid_template_columns": null,
            "flex": null,
            "_model_name": "LayoutModel",
            "justify_items": null,
            "grid_row": null,
            "max_height": null,
            "align_content": null,
            "visibility": null,
            "align_self": null,
            "height": null,
            "min_height": null,
            "padding": null,
            "grid_auto_rows": null,
            "grid_gap": null,
            "max_width": null,
            "order": null,
            "_view_module_version": "1.2.0",
            "grid_template_areas": null,
            "object_position": null,
            "object_fit": null,
            "grid_auto_columns": null,
            "margin": null,
            "display": null,
            "left": null
          }
        },
        "c8f9c2cd36064e0e8c51f574d8a9f581": {
          "model_module": "@jupyter-widgets/controls",
          "model_name": "FloatProgressModel",
          "state": {
            "_view_name": "ProgressView",
            "style": "IPY_MODEL_3666e59ce97848d1b488f2273d5eeca7",
            "_dom_classes": [],
            "description": "100%",
            "_model_name": "FloatProgressModel",
            "bar_style": "success",
            "max": 83975,
            "_view_module": "@jupyter-widgets/controls",
            "_model_module_version": "1.5.0",
            "value": 83975,
            "_view_count": null,
            "_view_module_version": "1.5.0",
            "orientation": "horizontal",
            "min": 0,
            "description_tooltip": null,
            "_model_module": "@jupyter-widgets/controls",
            "layout": "IPY_MODEL_22483812d68640e0ba77b92c004b289c"
          }
        },
        "53bc1c6dfbbd46d289ea59f4ef8d6fa7": {
          "model_module": "@jupyter-widgets/controls",
          "model_name": "HTMLModel",
          "state": {
            "_view_name": "HTMLView",
            "style": "IPY_MODEL_b0b24157a35142818a5b2a7ac2113ec4",
            "_dom_classes": [],
            "description": "",
            "_model_name": "HTMLModel",
            "placeholder": "​",
            "_view_module": "@jupyter-widgets/controls",
            "_model_module_version": "1.5.0",
            "value": " 83975/83975 [00:00&lt;00:00, 538416.01it/s]",
            "_view_count": null,
            "_view_module_version": "1.5.0",
            "description_tooltip": null,
            "_model_module": "@jupyter-widgets/controls",
            "layout": "IPY_MODEL_3b9e7707efca4bc9a65be58a7812783a"
          }
        },
        "3666e59ce97848d1b488f2273d5eeca7": {
          "model_module": "@jupyter-widgets/controls",
          "model_name": "ProgressStyleModel",
          "state": {
            "_view_name": "StyleView",
            "_model_name": "ProgressStyleModel",
            "description_width": "initial",
            "_view_module": "@jupyter-widgets/base",
            "_model_module_version": "1.5.0",
            "_view_count": null,
            "_view_module_version": "1.2.0",
            "bar_color": null,
            "_model_module": "@jupyter-widgets/controls"
          }
        },
        "22483812d68640e0ba77b92c004b289c": {
          "model_module": "@jupyter-widgets/base",
          "model_name": "LayoutModel",
          "state": {
            "_view_name": "LayoutView",
            "grid_template_rows": null,
            "right": null,
            "justify_content": null,
            "_view_module": "@jupyter-widgets/base",
            "overflow": null,
            "_model_module_version": "1.2.0",
            "_view_count": null,
            "flex_flow": null,
            "width": null,
            "min_width": null,
            "border": null,
            "align_items": null,
            "bottom": null,
            "_model_module": "@jupyter-widgets/base",
            "top": null,
            "grid_column": null,
            "overflow_y": null,
            "overflow_x": null,
            "grid_auto_flow": null,
            "grid_area": null,
            "grid_template_columns": null,
            "flex": null,
            "_model_name": "LayoutModel",
            "justify_items": null,
            "grid_row": null,
            "max_height": null,
            "align_content": null,
            "visibility": null,
            "align_self": null,
            "height": null,
            "min_height": null,
            "padding": null,
            "grid_auto_rows": null,
            "grid_gap": null,
            "max_width": null,
            "order": null,
            "_view_module_version": "1.2.0",
            "grid_template_areas": null,
            "object_position": null,
            "object_fit": null,
            "grid_auto_columns": null,
            "margin": null,
            "display": null,
            "left": null
          }
        },
        "b0b24157a35142818a5b2a7ac2113ec4": {
          "model_module": "@jupyter-widgets/controls",
          "model_name": "DescriptionStyleModel",
          "state": {
            "_view_name": "StyleView",
            "_model_name": "DescriptionStyleModel",
            "description_width": "",
            "_view_module": "@jupyter-widgets/base",
            "_model_module_version": "1.5.0",
            "_view_count": null,
            "_view_module_version": "1.2.0",
            "_model_module": "@jupyter-widgets/controls"
          }
        },
        "3b9e7707efca4bc9a65be58a7812783a": {
          "model_module": "@jupyter-widgets/base",
          "model_name": "LayoutModel",
          "state": {
            "_view_name": "LayoutView",
            "grid_template_rows": null,
            "right": null,
            "justify_content": null,
            "_view_module": "@jupyter-widgets/base",
            "overflow": null,
            "_model_module_version": "1.2.0",
            "_view_count": null,
            "flex_flow": null,
            "width": null,
            "min_width": null,
            "border": null,
            "align_items": null,
            "bottom": null,
            "_model_module": "@jupyter-widgets/base",
            "top": null,
            "grid_column": null,
            "overflow_y": null,
            "overflow_x": null,
            "grid_auto_flow": null,
            "grid_area": null,
            "grid_template_columns": null,
            "flex": null,
            "_model_name": "LayoutModel",
            "justify_items": null,
            "grid_row": null,
            "max_height": null,
            "align_content": null,
            "visibility": null,
            "align_self": null,
            "height": null,
            "min_height": null,
            "padding": null,
            "grid_auto_rows": null,
            "grid_gap": null,
            "max_width": null,
            "order": null,
            "_view_module_version": "1.2.0",
            "grid_template_areas": null,
            "object_position": null,
            "object_fit": null,
            "grid_auto_columns": null,
            "margin": null,
            "display": null,
            "left": null
          }
        },
        "a13c6926b2dc4956a8e8e882d37dda66": {
          "model_module": "@jupyter-widgets/controls",
          "model_name": "HBoxModel",
          "state": {
            "_view_name": "HBoxView",
            "_dom_classes": [],
            "_model_name": "HBoxModel",
            "_view_module": "@jupyter-widgets/controls",
            "_model_module_version": "1.5.0",
            "_view_count": null,
            "_view_module_version": "1.5.0",
            "box_style": "",
            "layout": "IPY_MODEL_587842a99e9e41e087fac7d13c4c6fd0",
            "_model_module": "@jupyter-widgets/controls",
            "children": [
              "IPY_MODEL_0d61c2e8463440f399f36815851f5e03",
              "IPY_MODEL_c5d5fdeaa69e4182b4d5e3faa1e24fa6"
            ]
          }
        },
        "587842a99e9e41e087fac7d13c4c6fd0": {
          "model_module": "@jupyter-widgets/base",
          "model_name": "LayoutModel",
          "state": {
            "_view_name": "LayoutView",
            "grid_template_rows": null,
            "right": null,
            "justify_content": null,
            "_view_module": "@jupyter-widgets/base",
            "overflow": null,
            "_model_module_version": "1.2.0",
            "_view_count": null,
            "flex_flow": null,
            "width": null,
            "min_width": null,
            "border": null,
            "align_items": null,
            "bottom": null,
            "_model_module": "@jupyter-widgets/base",
            "top": null,
            "grid_column": null,
            "overflow_y": null,
            "overflow_x": null,
            "grid_auto_flow": null,
            "grid_area": null,
            "grid_template_columns": null,
            "flex": null,
            "_model_name": "LayoutModel",
            "justify_items": null,
            "grid_row": null,
            "max_height": null,
            "align_content": null,
            "visibility": null,
            "align_self": null,
            "height": null,
            "min_height": null,
            "padding": null,
            "grid_auto_rows": null,
            "grid_gap": null,
            "max_width": null,
            "order": null,
            "_view_module_version": "1.2.0",
            "grid_template_areas": null,
            "object_position": null,
            "object_fit": null,
            "grid_auto_columns": null,
            "margin": null,
            "display": null,
            "left": null
          }
        },
        "0d61c2e8463440f399f36815851f5e03": {
          "model_module": "@jupyter-widgets/controls",
          "model_name": "FloatProgressModel",
          "state": {
            "_view_name": "ProgressView",
            "style": "IPY_MODEL_4d743211a8b54c91a7ca040bbb419476",
            "_dom_classes": [],
            "description": "100%",
            "_model_name": "FloatProgressModel",
            "bar_style": "success",
            "max": 10000,
            "_view_module": "@jupyter-widgets/controls",
            "_model_module_version": "1.5.0",
            "value": 10000,
            "_view_count": null,
            "_view_module_version": "1.5.0",
            "orientation": "horizontal",
            "min": 0,
            "description_tooltip": null,
            "_model_module": "@jupyter-widgets/controls",
            "layout": "IPY_MODEL_7ffe810c8a714708b27fc467c5f5b639"
          }
        },
        "c5d5fdeaa69e4182b4d5e3faa1e24fa6": {
          "model_module": "@jupyter-widgets/controls",
          "model_name": "HTMLModel",
          "state": {
            "_view_name": "HTMLView",
            "style": "IPY_MODEL_8250aa11e3ac444e901b0e25328bbaae",
            "_dom_classes": [],
            "description": "",
            "_model_name": "HTMLModel",
            "placeholder": "​",
            "_view_module": "@jupyter-widgets/controls",
            "_model_module_version": "1.5.0",
            "value": " 10000/10000 [00:43&lt;00:00, 231.93it/s]",
            "_view_count": null,
            "_view_module_version": "1.5.0",
            "description_tooltip": null,
            "_model_module": "@jupyter-widgets/controls",
            "layout": "IPY_MODEL_fc395d1022524d4e90be1b3da85e28b3"
          }
        },
        "4d743211a8b54c91a7ca040bbb419476": {
          "model_module": "@jupyter-widgets/controls",
          "model_name": "ProgressStyleModel",
          "state": {
            "_view_name": "StyleView",
            "_model_name": "ProgressStyleModel",
            "description_width": "initial",
            "_view_module": "@jupyter-widgets/base",
            "_model_module_version": "1.5.0",
            "_view_count": null,
            "_view_module_version": "1.2.0",
            "bar_color": null,
            "_model_module": "@jupyter-widgets/controls"
          }
        },
        "7ffe810c8a714708b27fc467c5f5b639": {
          "model_module": "@jupyter-widgets/base",
          "model_name": "LayoutModel",
          "state": {
            "_view_name": "LayoutView",
            "grid_template_rows": null,
            "right": null,
            "justify_content": null,
            "_view_module": "@jupyter-widgets/base",
            "overflow": null,
            "_model_module_version": "1.2.0",
            "_view_count": null,
            "flex_flow": null,
            "width": null,
            "min_width": null,
            "border": null,
            "align_items": null,
            "bottom": null,
            "_model_module": "@jupyter-widgets/base",
            "top": null,
            "grid_column": null,
            "overflow_y": null,
            "overflow_x": null,
            "grid_auto_flow": null,
            "grid_area": null,
            "grid_template_columns": null,
            "flex": null,
            "_model_name": "LayoutModel",
            "justify_items": null,
            "grid_row": null,
            "max_height": null,
            "align_content": null,
            "visibility": null,
            "align_self": null,
            "height": null,
            "min_height": null,
            "padding": null,
            "grid_auto_rows": null,
            "grid_gap": null,
            "max_width": null,
            "order": null,
            "_view_module_version": "1.2.0",
            "grid_template_areas": null,
            "object_position": null,
            "object_fit": null,
            "grid_auto_columns": null,
            "margin": null,
            "display": null,
            "left": null
          }
        },
        "8250aa11e3ac444e901b0e25328bbaae": {
          "model_module": "@jupyter-widgets/controls",
          "model_name": "DescriptionStyleModel",
          "state": {
            "_view_name": "StyleView",
            "_model_name": "DescriptionStyleModel",
            "description_width": "",
            "_view_module": "@jupyter-widgets/base",
            "_model_module_version": "1.5.0",
            "_view_count": null,
            "_view_module_version": "1.2.0",
            "_model_module": "@jupyter-widgets/controls"
          }
        },
        "fc395d1022524d4e90be1b3da85e28b3": {
          "model_module": "@jupyter-widgets/base",
          "model_name": "LayoutModel",
          "state": {
            "_view_name": "LayoutView",
            "grid_template_rows": null,
            "right": null,
            "justify_content": null,
            "_view_module": "@jupyter-widgets/base",
            "overflow": null,
            "_model_module_version": "1.2.0",
            "_view_count": null,
            "flex_flow": null,
            "width": null,
            "min_width": null,
            "border": null,
            "align_items": null,
            "bottom": null,
            "_model_module": "@jupyter-widgets/base",
            "top": null,
            "grid_column": null,
            "overflow_y": null,
            "overflow_x": null,
            "grid_auto_flow": null,
            "grid_area": null,
            "grid_template_columns": null,
            "flex": null,
            "_model_name": "LayoutModel",
            "justify_items": null,
            "grid_row": null,
            "max_height": null,
            "align_content": null,
            "visibility": null,
            "align_self": null,
            "height": null,
            "min_height": null,
            "padding": null,
            "grid_auto_rows": null,
            "grid_gap": null,
            "max_width": null,
            "order": null,
            "_view_module_version": "1.2.0",
            "grid_template_areas": null,
            "object_position": null,
            "object_fit": null,
            "grid_auto_columns": null,
            "margin": null,
            "display": null,
            "left": null
          }
        }
      }
    }
  },
  "nbformat": 4,
  "nbformat_minor": 0
}